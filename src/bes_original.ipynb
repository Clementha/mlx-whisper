{
 "cells": [
  {
   "cell_type": "code",
   "execution_count": 13,
   "id": "bd231dfa",
   "metadata": {},
   "outputs": [],
   "source": [
    "import torch\n",
    "import whisper\n",
    "from utils import get_device "
   ]
  },
  {
   "cell_type": "code",
   "execution_count": 14,
   "id": "38e8a355",
   "metadata": {},
   "outputs": [
    {
     "name": "stdout",
     "output_type": "stream",
     "text": [
      "Using device: cuda\n"
     ]
    }
   ],
   "source": [
    "device = get_device()\n",
    "model = whisper.load_model(\"tiny\", device=device)\n",
    "tokenizer = whisper.tokenizer.get_tokenizer(multilingual=True)\n",
    "optimizer = torch.optim.Adam(model.parameters(), lr=1e-5)\n",
    "criterion = torch.nn.CrossEntropyLoss()"
   ]
  },
  {
   "cell_type": "code",
   "execution_count": 15,
   "id": "19a1f56b",
   "metadata": {},
   "outputs": [],
   "source": [
    "# Load and process the audio file\n",
    "FILE_PATH = \"../audio/Helen--Bes.m4a\"\n",
    "audio = whisper.load_audio(FILE_PATH)\n",
    "audio = whisper.pad_or_trim(audio)\n",
    "log_mel = whisper.log_mel_spectrogram(audio).to(device)"
   ]
  },
  {
   "cell_type": "code",
   "execution_count": 16,
   "id": "448d0728",
   "metadata": {},
   "outputs": [
    {
     "name": "stdout",
     "output_type": "stream",
     "text": [
      "whisper prediction without fine tuning:  Hello my name is Beds\n"
     ]
    }
   ],
   "source": [
    "options = whisper.DecodingOptions()\n",
    "response = whisper.decode(model, log_mel, options)\n",
    "print(\"whisper prediction without fine tuning: \", response.text)"
   ]
  },
  {
   "cell_type": "code",
   "execution_count": null,
   "id": "3c08aad6",
   "metadata": {},
   "outputs": [
    {
     "name": "stdout",
     "output_type": "stream",
     "text": [
      "--- Before training ---\n",
      "Ids Target:  [50259, 50359, 2425, 11, 452, 1315, 307, 8190, 13, 50257]\n",
      "Ids Pred:  [50259, 50359, 50363, 452, 452, 1315, 307, 363, 13, 50257, 50257]\n",
      "Text target:  <|en|><|transcribe|> Hello, my name is Bes.<|endoftext|>\n",
      "Text pred:  <|en|><|transcribe|><|notimestamps|> my my name is B.<|endoftext|><|endoftext|>\n",
      "Loss:  12.477005958557129\n"
     ]
    }
   ],
   "source": [
    "# Preparing input for target for the model to train on and learn\n",
    "ids = []\n",
    "ids += [tokenizer.sot]\n",
    "ids += [tokenizer.language_token]\n",
    "ids += [tokenizer.transcribe]\n",
    "ids += [tokenizer.no_timestamps]\n",
    "ids += tokenizer.encode(\" Hello, my name is Bes.\")\n",
    "ids += [tokenizer.eot]\n",
    "\n",
    "model.train()\n",
    "\n",
    "train_tokens = torch.tensor(ids, device=device).unsqueeze(0)\n",
    "mel_unsqueezed = log_mel.unsqueeze(0).to(device)\n",
    "prediction = model(tokens=train_tokens, mel=mel_unsqueezed)\n",
    "target = train_tokens[:, 1:].contiguous()  # Skip the start token\n",
    "\n",
    "print(\"--- Before training ---\")\n",
    "print(\"Ids Target: \", target.squeeze().tolist())\n",
    "print(\"Ids Pred: \", torch.argmax(prediction, dim=-1).squeeze().tolist())\n",
    "print(\"Text target: \", tokenizer.decode(target.squeeze().tolist()))\n",
    "print(\"Text pred: \", tokenizer.decode(torch.argmax(prediction, dim=-1).squeeze().tolist()))\n",
    "loss = criterion(prediction.transpose(1, 2), train_tokens)\n",
    "print(\"Loss: \", loss.item())"
   ]
  },
  {
   "cell_type": "code",
   "execution_count": 20,
   "id": "30560b7c",
   "metadata": {},
   "outputs": [],
   "source": [
    "training_count = 0"
   ]
  },
  {
   "cell_type": "code",
   "execution_count": null,
   "id": "ac4dff63",
   "metadata": {},
   "outputs": [
    {
     "name": "stdout",
     "output_type": "stream",
     "text": [
      "---- Training count 5 ----\n",
      "--- After training ---\n",
      "Ids Target:  [50259, 50359, 2425, 11, 452, 1315, 307, 8190, 13, 50257]\n",
      "Ids Pred:  [50259, 50359, 50363, 11, 452, 1315, 307, 8190, 13, 50257]\n",
      "Text target:  <|en|><|transcribe|> Hello, my name is Bes.<|endoftext|>\n",
      "Text pred:  <|en|><|transcribe|><|notimestamps|>, my name is Bes.<|endoftext|>\n",
      "Loss:  1.0054512023925781\n"
     ]
    }
   ],
   "source": [
    "# Training the model - re-run this cell to have it train multiple times\n",
    "training_count += 1\n",
    "print(f\"---- Training count {training_count} ----\")\n",
    "optimizer.zero_grad()\n",
    "loss.backward()\n",
    "optimizer.step()\n",
    "\n",
    "print(\"--- After training ---\")\n",
    "model.eval()\n",
    "prediction = model(tokens=train_tokens, mel=mel_unsqueezed)\n",
    "prediction = prediction[:, :-1, :].contiguous()  # Remove the last token\n",
    "\n",
    "print(\"Ids Target: \", target.squeeze().tolist())\n",
    "print(\"Ids Pred: \", torch.argmax(prediction, dim=-1).squeeze().tolist())\n",
    "print(\"Text target: \", tokenizer.decode(target.squeeze().tolist()))\n",
    "print(\"Text pred: \", tokenizer.decode(torch.argmax(prediction, dim=-1).squeeze().tolist()))\n",
    "\n",
    "loss = criterion(prediction.transpose(1, 2), target)\n",
    "print(\"Loss: \", loss.item())\n"
   ]
  }
 ],
 "metadata": {
  "kernelspec": {
   "display_name": "mlx-whisper",
   "language": "python",
   "name": "python3"
  },
  "language_info": {
   "codemirror_mode": {
    "name": "ipython",
    "version": 3
   },
   "file_extension": ".py",
   "mimetype": "text/x-python",
   "name": "python",
   "nbconvert_exporter": "python",
   "pygments_lexer": "ipython3",
   "version": "3.10.12"
  }
 },
 "nbformat": 4,
 "nbformat_minor": 5
}
