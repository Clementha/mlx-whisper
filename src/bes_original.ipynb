{
 "cells": [
  {
   "cell_type": "code",
   "execution_count": null,
   "id": "bd231dfa",
   "metadata": {},
   "outputs": [],
   "source": [
    "import torch\n",
    "import whisper\n",
    "from utils import get_device "
   ]
  },
  {
   "cell_type": "code",
   "execution_count": null,
   "id": "38e8a355",
   "metadata": {},
   "outputs": [
    {
     "ename": "",
     "evalue": "",
     "output_type": "error",
     "traceback": [
      "\u001b[1;31mRunning cells with 'mlx-whisper (Python 3.10.13)' requires the ipykernel package.\n",
      "\u001b[1;31mInstall 'ipykernel' into the Python environment. \n",
      "\u001b[1;31mCommand: '/Users/helenz/Desktop/mlx-whisper/.venv/bin/python -m pip install ipykernel -U --force-reinstall'"
     ]
    }
   ],
   "source": [
    "device = get_device()\n",
    "model = whisper.load_model(\"tiny\", device=device)\n",
    "tokenizer = whisper.tokenizer.get_tokenizer(multilingual=True)\n",
    "optimizer = torch.optim.Adam(model.parameters(), lr=1e-5)\n",
    "criterion = torch.nn.CrossEntropyLoss()"
   ]
  },
  {
   "cell_type": "code",
   "execution_count": null,
   "id": "19a1f56b",
   "metadata": {},
   "outputs": [],
   "source": [
    "# Load and process the audio file\n",
    "FILE_PATH = \"src/Helen--Bes.m4a\"\n",
    "audio = whisper.load_audio(FILE_PATH)\n",
    "audio = whisper.pad_or_trim(audio)\n",
    "log_mel = whisper.log_mel_spectrogram(audio).to(device)"
   ]
  },
  {
   "cell_type": "code",
   "execution_count": null,
   "id": "448d0728",
   "metadata": {},
   "outputs": [],
   "source": [
    "options = whisper.DecodingOptions()\n",
    "response = whisper.decode(model, log_mel, options)\n",
    "print(\"whisper prediction without fine tuning: \", response.text)"
   ]
  },
  {
   "cell_type": "code",
   "execution_count": null,
   "id": "3c08aad6",
   "metadata": {},
   "outputs": [],
   "source": [
    "# Preparing input for target for the model to train on and learn\n",
    "ids = []\n",
    "ids += [tokenizer.sot]\n",
    "ids += [tokenizer.language_token]\n",
    "ids += [tokenizer.transcribe]\n",
    "ids += tokenizer.encode(\" Hello, my name is Bes.\")\n",
    "ids += [tokenizer.eot]\n",
    "\n",
    "model.train()\n",
    "\n",
    "train_tokens = torch.tensor(ids, device=device).unsqueeze(0)\n",
    "mel_unsqueezed = log_mel.unsqueeze(0).to(device)\n",
    "prediction = model(tokens=train_tokens, mel=mel_unsqueezed)\n",
    "target = train_tokens[:, 1:].contiguous()  # Skip the start token\n",
    "\n",
    "print(\"--- Before training ---\")\n",
    "print(\"Ids Target: \", target.squeeze().tolist())\n",
    "print(\"Ids Pred: \", torch.argmax(prediction, dim=-1).squeeze().tolist())\n",
    "print(\"Text target: \", tokenizer.decode(target.squeeze().tolist()))\n",
    "print(\"Text pred: \", tokenizer.decode(torch.argmax(prediction, dim=-1).squeeze().tolist()))"
   ]
  },
  {
   "cell_type": "code",
   "execution_count": null,
   "id": "ac4dff63",
   "metadata": {},
   "outputs": [],
   "source": [
    "# Training the model\n",
    "loss = criterion(prediction.transpose(1, 2), train_tokens)\n",
    "print(\"Loss: \", loss.item())\n",
    "optimizer.zero_grad()\n",
    "loss.backward()\n",
    "optimizer.step()\n",
    "\n",
    "print(\"--- After training ---\")\n",
    "model.eval()\n",
    "prediction = model(tokens=train_tokens, mel=mel_unsqueezed)\n",
    "prediction = prediction[:, :-1, :].contiguous()  # Remove the last token\n",
    "\n",
    "print(\"Ids Target: \", target.squeeze().tolist())\n",
    "print(\"Ids Pred: \", torch.argmax(prediction, dim=-1).squeeze().tolist())\n",
    "print(\"Text target: \", tokenizer.decode(target.squeeze().tolist()))\n",
    "print(\"Text pred: \", tokenizer.decode(torch.argmax(prediction, dim=-1).squeeze().tolist()))\n",
    "\n",
    "loss = criterion(prediction.transpose(1, 2), target)\n",
    "print(\"Loss: \", loss.item())"
   ]
  }
 ],
 "metadata": {
  "kernelspec": {
   "display_name": "mlx-whisper",
   "language": "python",
   "name": "python3"
  },
  "language_info": {
   "name": "python",
   "version": "3.10.13"
  }
 },
 "nbformat": 4,
 "nbformat_minor": 5
}
