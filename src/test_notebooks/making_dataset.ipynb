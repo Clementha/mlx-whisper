{
 "cells": [
  {
   "cell_type": "code",
   "execution_count": 52,
   "id": "c49caa55",
   "metadata": {},
   "outputs": [
    {
     "name": "stderr",
     "output_type": "stream",
     "text": [
      "Generating train split: 6 examples [00:00, 1175.97 examples/s]\n",
      "Generating validation split: 3 examples [00:00, 973.08 examples/s]\n",
      "Generating test split: 5 examples [00:00, 2220.15 examples/s]"
     ]
    },
    {
     "name": "stdout",
     "output_type": "stream",
     "text": [
      "Dataset downloaded successfully.\n"
     ]
    },
    {
     "name": "stderr",
     "output_type": "stream",
     "text": [
      "\n"
     ]
    }
   ],
   "source": [
    "from datasets import load_dataset\n",
    "\n",
    "api.upload_folder(\n",
    "    folder_path=\"/Users/ethanedwards/GitRepos/mlx-whisper/welsh_and_english_dataset\",\n",
    "    repo_id=\"EthanGLEdwards/welsh-transcription-samples\",\n",
    "    repo_type=\"dataset\",\n",
    "    # ignore_patterns=[\"train/*\", \"test/*\"]\n",
    ")\n",
    "\n",
    "try:\n",
    "    downloaded_ds = load_dataset(\"EthanGLEdwards/welsh-transcription-samples\")\n",
    "    print(\"Dataset downloaded successfully.\")\n",
    "except Exception as e:\n",
    "    print(\"Failed to download dataset:\", e)\n"
   ]
  },
  {
   "cell_type": "code",
   "execution_count": 47,
   "id": "16b88319",
   "metadata": {},
   "outputs": [
    {
     "name": "stdout",
     "output_type": "stream",
     "text": [
      "All rows from metadata copy are already present in metadata.jsonl.\n"
     ]
    },
    {
     "data": {
      "text/plain": [
       "(True, 'All rows from metadata copy are already present in metadata.jsonl.')"
      ]
     },
     "execution_count": 47,
     "metadata": {},
     "output_type": "execute_result"
    }
   ],
   "source": [
    "\n",
    "import json\n",
    "import os\n",
    "import shutil\n",
    "\n",
    "def move_next_row_from_copy_to_metadata(directory):\n",
    "    \"\"\"\n",
    "    Moves the first row from 'metadata copy.jsonl' that is not present in 'metadata.jsonl'\n",
    "    into 'metadata.jsonl' in the given directory.\n",
    "    \"\"\"\n",
    "    meta_path = os.path.join(directory, \"metadata.jsonl\")\n",
    "    meta_copy_path = os.path.join(directory, \"metadata copy.jsonl\")\n",
    "\n",
    "    # Read all rows from both files\n",
    "    with open(meta_copy_path, \"r\", encoding=\"utf-8\") as f:\n",
    "        copy_rows = [line.strip() for line in f if line.strip()]\n",
    "    if not copy_rows:\n",
    "        print(\"No rows in metadata copy.\")\n",
    "        return\n",
    "\n",
    "    if os.path.exists(meta_path):\n",
    "        with open(meta_path, \"r\", encoding=\"utf-8\") as f:\n",
    "            meta_rows = set(line.strip() for line in f if line.strip())\n",
    "    else:\n",
    "        meta_rows = set()\n",
    "\n",
    "    # Find the first row in copy not present in metadata\n",
    "    for row in copy_rows:\n",
    "        if row not in meta_rows:\n",
    "            # Append this row to metadata.jsonl\n",
    "            with open(meta_path, \"a\", encoding=\"utf-8\") as f:\n",
    "                if os.path.getsize(meta_path) > 0:\n",
    "                    f.write(\"\\n\")\n",
    "                f.write(row)\n",
    "            print(\"Moved row to metadata.jsonl:\", row)\n",
    "            return False, row\n",
    "\n",
    "    print(\"All rows from metadata copy are already present in metadata.jsonl.\")\n",
    "    return True, \"All rows from metadata copy are already present in metadata.jsonl.\"\n",
    "\n",
    "# Example usage:\n",
    "move_next_row_from_copy_to_metadata(\"welsh_and_english_dataset/test\")\n",
    "# move_next_row_from_copy_to_metadata(\"welsh_and_english_dataset/train\")\n",
    "# move_next_row_from_copy_to_metadata(\"welsh_and_english_dataset/val\")\n"
   ]
  },
  {
   "cell_type": "code",
   "execution_count": 54,
   "id": "2ec4ffc3",
   "metadata": {},
   "outputs": [
    {
     "name": "stdout",
     "output_type": "stream",
     "text": [
      "All rows from metadata copy are already present in metadata.jsonl.\n",
      "Finished processing test split.\n"
     ]
    },
    {
     "name": "stderr",
     "output_type": "stream",
     "text": [
      "Generating train split: 7 examples [00:00, 1503.10 examples/s]\n",
      "Generating validation split: 3 examples [00:00, 1033.76 examples/s]\n",
      "Generating test split: 5 examples [00:00, 1737.92 examples/s]\n"
     ]
    },
    {
     "name": "stdout",
     "output_type": "stream",
     "text": [
      "Dataset downloaded successfully after processing test.\n",
      "All rows from metadata copy are already present in metadata.jsonl.\n",
      "Finished processing train split.\n"
     ]
    },
    {
     "name": "stderr",
     "output_type": "stream",
     "text": [
      "No files have been modified since last commit. Skipping to prevent empty commit.\n"
     ]
    },
    {
     "name": "stdout",
     "output_type": "stream",
     "text": [
      "Dataset downloaded successfully after processing train.\n",
      "All rows from metadata copy are already present in metadata.jsonl.\n",
      "Finished processing val split.\n"
     ]
    },
    {
     "name": "stderr",
     "output_type": "stream",
     "text": [
      "No files have been modified since last commit. Skipping to prevent empty commit.\n"
     ]
    },
    {
     "name": "stdout",
     "output_type": "stream",
     "text": [
      "Dataset downloaded successfully after processing val.\n"
     ]
    }
   ],
   "source": [
    "splits = [\"test\", \"train\", \"val\"]\n",
    "for split in splits:\n",
    "    dir_path = f\"welsh_and_english_dataset/{split}\"\n",
    "    done = False\n",
    "    while not done:\n",
    "        try:\n",
    "            done, row = move_next_row_from_copy_to_metadata(dir_path)\n",
    "            if done:\n",
    "                print(f\"Finished processing {split} split.\")\n",
    "                break\n",
    "        except Exception as e:\n",
    "            print(f\"Exception for row in {split}:\", row)\n",
    "            print(e)\n",
    "            break\n",
    "\n",
    "    # Upload the folder after processing each split\n",
    "    api.upload_folder(\n",
    "        folder_path=\"/Users/ethanedwards/GitRepos/mlx-whisper/welsh_and_english_dataset\",\n",
    "        repo_id=\"EthanGLEdwards/welsh-transcription-samples\",\n",
    "        repo_type=\"dataset\",\n",
    "    )\n",
    "\n",
    "    # Download to confirm\n",
    "    try:\n",
    "        downloaded_ds = load_dataset(\"EthanGLEdwards/welsh-transcription-samples\")\n",
    "        print(f\"Dataset downloaded successfully after processing {split}.\")\n",
    "    except Exception as e:\n",
    "        print(f\"Failed to download dataset after processing {split}:\", e)"
   ]
  }
 ],
 "metadata": {
  "kernelspec": {
   "display_name": "mlx-whisper",
   "language": "python",
   "name": "python3"
  },
  "language_info": {
   "codemirror_mode": {
    "name": "ipython",
    "version": 3
   },
   "file_extension": ".py",
   "mimetype": "text/x-python",
   "name": "python",
   "nbconvert_exporter": "python",
   "pygments_lexer": "ipython3",
   "version": "3.10.18"
  }
 },
 "nbformat": 4,
 "nbformat_minor": 5
}
