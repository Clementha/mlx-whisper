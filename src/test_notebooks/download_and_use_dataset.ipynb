{
 "cells": [
  {
   "cell_type": "code",
   "execution_count": 1,
   "id": "1bbc15ac",
   "metadata": {},
   "outputs": [
    {
     "name": "stderr",
     "output_type": "stream",
     "text": [
      "/Users/ethanedwards/GitRepos/mlx-whisper/.venv/lib/python3.10/site-packages/tqdm/auto.py:21: TqdmWarning: IProgress not found. Please update jupyter and ipywidgets. See https://ipywidgets.readthedocs.io/en/stable/user_install.html\n",
      "  from .autonotebook import tqdm as notebook_tqdm\n"
     ]
    },
    {
     "name": "stdout",
     "output_type": "stream",
     "text": [
      "Dataset downloaded successfully.\n"
     ]
    }
   ],
   "source": [
    "from datasets import load_dataset\n",
    "try:\n",
    "    downloaded_ds = load_dataset(\"EthanGLEdwards/welsh-transcription-samples\")\n",
    "    print(\"Dataset downloaded successfully.\")\n",
    "except Exception as e:\n",
    "    print(\"Failed to download dataset:\", e)\n"
   ]
  },
  {
   "cell_type": "code",
   "execution_count": 1,
   "id": "ac4fb492",
   "metadata": {},
   "outputs": [
    {
     "name": "stderr",
     "output_type": "stream",
     "text": [
      "/Users/ethanedwards/GitRepos/mlx-whisper/.venv/lib/python3.10/site-packages/tqdm/auto.py:21: TqdmWarning: IProgress not found. Please update jupyter and ipywidgets. See https://ipywidgets.readthedocs.io/en/stable/user_install.html\n",
      "  from .autonotebook import tqdm as notebook_tqdm\n"
     ]
    },
    {
     "name": "stdout",
     "output_type": "stream",
     "text": [
      "{'audio': {'path': '/Users/ethanedwards/.cache/huggingface/hub/datasets--EthanGLEdwards--welsh-transcription-samples/snapshots/50d038e24e8839d3e769c3277a52cfc74a77e9c5/train/MoreWelsh.wav', 'array': array([ 0.00000000e+00,  0.00000000e+00, -3.05175781e-05, ...,\n",
      "        2.57873535e-02,  2.30407715e-02,  2.03552246e-02], shape=(204800,)), 'sampling_rate': 48000}, 'caption': 'Llandrindod Wells, Anglesey', 'language': 'cy', 'speaker': 'Ethan'}\n"
     ]
    },
    {
     "name": "stderr",
     "output_type": "stream",
     "text": [
      "Device set to use mps:0\n",
      "/Users/ethanedwards/GitRepos/mlx-whisper/.venv/lib/python3.10/site-packages/transformers/models/whisper/generation_whisper.py:604: FutureWarning: The input name `inputs` is deprecated. Please make sure to use `input_features` instead.\n",
      "  warnings.warn(\n",
      "Using custom `forced_decoder_ids` from the (generation) config. This is deprecated in favor of the `task` and `language` flags/config options.\n",
      "Transcription using a multilingual Whisper will default to language detection followed by transcription instead of translation to English. This might be a breaking change for your use case. If you want to instead always translate your audio to English, make sure to pass `language='en'`. See https://github.com/huggingface/transformers/pull/28687 for more details.\n"
     ]
    },
    {
     "name": "stdout",
     "output_type": "stream",
     "text": [
      " She can't be cryin' She can't be cryin' She can't be cryin' She can't be cryin' She can't be cryin' She can't be cryin' She can't be cryin' She can't be cryin' She can't be cryin' She can't be cryin' She can't be cryin' She can't be cryin' She can't be cryin' She can't be cryin' She can't be cryin' She can't be cryin' She can't be cryin' She can't be cryin' She can't be cryin' She can't be cryin' She can't be cryin' She can't be cryin' She can't be cryin' She can't be cryin' She can't be cryin' She can't be cryin' She can't be cryin' She can't be cryin' She can't be cryin' She can't be cryin' She can't be cryin' She can't be cryin' She can't be cryin' She can't be cryin' She can't be cryin' She can't be cryin' She can't be cryin' She can't be cryin' She can't be cryin' She can't be cryin' She can't be cryin' She can't be cryin' She can't be cryin' She can't be cryin' She can't be cryin' She can't be cryin' She can't be cryin' She can't be cryin' She can't be cryin' She can't be cryin' She can't be cryin' She can't be cryin' She can't be cryin' She can't be cryin' She can't be cryin' She can't be cryin' She can't be cryin' She can't be cryin' She can't be cryin' She can't be cryin' She can't be cryin' She can't be cryin' She can't be cryin' She can't\n"
     ]
    }
   ],
   "source": [
    "from datasets import load_dataset\n",
    "from transformers import pipeline\n",
    "\n",
    "# Load your dataset from Hugging Face Hub\n",
    "dataset = load_dataset(\"EthanGLEdwards/welsh-transcription-samples\", split=\"train\")  # or val/test\n",
    "\n",
    "# Inspect the dataset\n",
    "print(dataset[0])\n",
    "\n",
    "# Create a Whisper pipeline (adjust model as needed)\n",
    "asr = pipeline(\"automatic-speech-recognition\", model=\"openai/whisper-small\", device=0)\n",
    "\n",
    "# Transcribe one file\n",
    "result = asr(dataset[0][\"audio\"][\"array\"])\n",
    "print(result[\"text\"])"
   ]
  },
  {
   "cell_type": "code",
   "execution_count": 3,
   "id": "e36dc1ea",
   "metadata": {},
   "outputs": [],
   "source": [
    "import whisper\n",
    "model = whisper.load_model(\"tiny\")\n",
    "def ld_audio_transcribe_and_spectrogram(file_path, model=model):\n",
    "    \"\"\"\n",
    "    Load audio file, transcribe it, and generate a spectrogram.\n",
    "    \"\"\"\n",
    "    if not os.path.exists(file_path):\n",
    "        raise FileNotFoundError(f\"File {file_path} does not exist.\")\n",
    "    \n",
    "    # Transcribe the audio file\n",
    "    result = model.transcribe(file_path)\n",
    "    \n",
    "    # Generate log-mel spectrogram\n",
    "    lg_ml = whisper.log_mel_spectrogram(file_path)\n",
    "    \n",
    "    return result, lg_ml\n"
   ]
  },
  {
   "cell_type": "code",
   "execution_count": null,
   "id": "e204fa51",
   "metadata": {},
   "outputs": [],
   "source": []
  }
 ],
 "metadata": {
  "kernelspec": {
   "display_name": "mlx-whisper",
   "language": "python",
   "name": "python3"
  },
  "language_info": {
   "codemirror_mode": {
    "name": "ipython",
    "version": 3
   },
   "file_extension": ".py",
   "mimetype": "text/x-python",
   "name": "python",
   "nbconvert_exporter": "python",
   "pygments_lexer": "ipython3",
   "version": "3.10.18"
  }
 },
 "nbformat": 4,
 "nbformat_minor": 5
}
